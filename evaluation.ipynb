{
 "metadata": {
  "language_info": {
   "codemirror_mode": {
    "name": "ipython",
    "version": 3
   },
   "file_extension": ".py",
   "mimetype": "text/x-python",
   "name": "python",
   "nbconvert_exporter": "python",
   "pygments_lexer": "ipython3",
   "version": "3.8.8-final"
  },
  "orig_nbformat": 2,
  "kernelspec": {
   "name": "python388jvsc74a57bd03733f1c7f6ee425e3494490e261b1c37e87fbe652f8299aab0834a3e7e2a86a5",
   "display_name": "Python 3.8.8 64-bit (conda)"
  }
 },
 "nbformat": 4,
 "nbformat_minor": 2,
 "cells": [
  {
   "cell_type": "code",
   "execution_count": 1,
   "metadata": {},
   "outputs": [],
   "source": [
    "import numpy as np\n",
    "from init import readFile, saveResults\n",
    "from k_nearest_neighbours import KNearestNeighbours, Algo"
   ]
  },
  {
   "cell_type": "code",
   "execution_count": 2,
   "metadata": {},
   "outputs": [
    {
     "output_type": "stream",
     "name": "stderr",
     "text": [
      "c:\\Users\\Maax0\\OneDrive - De Vinci\\ESILV\\A3S2\\IA et data\\TD3\\k_nearest_neighbours.py:198: RuntimeWarning: divide by zero encountered in double_scalars\n  class_choice[y_train[i]] += 1/distance[i]\n"
     ]
    }
   ],
   "source": [
    "CLASSES = [\"classA\", \"classB\", \"classC\", \"classD\", \"classE\"]\n",
    "\n",
    "x_train, y_train = readFile('data/data.csv', CLASSES)\n",
    "x_train2, y_train2 = readFile('data/preTest.csv', CLASSES)\n",
    "x_train = np.vstack((x_train, x_train2))\n",
    "y_train = np.append(y_train, y_train2)\n",
    "\n",
    "x_test, _ = readFile('data/finalTest.csv', CLASSES, True)\n",
    "\n",
    "knn = KNearestNeighbours.fit(x_train, y_train, 10, algo = Algo.KD_TREE, leaf_size = 30)\n",
    "\n",
    "prediction = knn.predict(x_test)\n",
    "\n",
    "saveResults('data/raballand_sample.txt', prediction, CLASSES)"
   ]
  }
 ]
}